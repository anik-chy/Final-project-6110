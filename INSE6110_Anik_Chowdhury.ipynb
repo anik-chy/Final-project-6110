{
  "nbformat": 4,
  "nbformat_minor": 0,
  "metadata": {
    "colab": {
      "provenance": []
    },
    "kernelspec": {
      "name": "python3",
      "display_name": "Python 3"
    },
    "language_info": {
      "name": "python"
    }
  },
  "cells": [
    {
      "cell_type": "markdown",
      "source": [
        "# Key Setup"
      ],
      "metadata": {
        "id": "AJfrjt_8rFFu"
      }
    },
    {
      "cell_type": "code",
      "execution_count": null,
      "metadata": {
        "id": "t4XAT9_e3NBb"
      },
      "outputs": [],
      "source": [
        "import random\n",
        "import math\n",
        "from sympy import isprime"
      ]
    },
    {
      "cell_type": "code",
      "source": [
        "def generate_16_bit_primes():\n",
        "  prime_1 = 1 #initializing with a non prime number\n",
        "  while not isprime(prime_1):\n",
        "    prime_1 = random.randrange(32768,65536)\n",
        "\n",
        "  prime_2 = 1 #initializing with a non prime number\n",
        "  while not isprime(prime_2) or prime_1==prime_2:\n",
        "    prime_2 = random.randrange(32768,65536)\n",
        "  return prime_1, prime_2\n",
        "\n",
        "def generate_gcd(a,b):\n",
        "  while b:\n",
        "    a, b = b, a % b\n",
        "  return a\n",
        "\n",
        "def generate_exponent(phiN):\n",
        "  exponent = random.randrange(2, phiN)\n",
        "  while generate_gcd(exponent,phiN) != 1:\n",
        "    exponent = random.randrange(2, phiN)\n",
        "  return exponent\n",
        "\n",
        "def generate_modular_inverse(num1, num2):\n",
        "  var1,var2 = 0,1\n",
        "  m = num2\n",
        "\n",
        "  while num1 > 1:\n",
        "    res = num1 // num2\n",
        "    num2, num1 = num1 % num2, num2\n",
        "    var1, var2 = var2 - res * var1, var1\n",
        "\n",
        "  return var2 + m if var2 < 0 else var2"
      ],
      "metadata": {
        "id": "weOUSxzR3Sw_"
      },
      "execution_count": null,
      "outputs": []
    },
    {
      "cell_type": "code",
      "source": [
        "p,q = generate_16_bit_primes()\n",
        "n = p*q\n",
        "phiN = (p-1)*(q-1)\n",
        "e = generate_exponent(phiN)\n",
        "d = generate_modular_inverse(e,phiN)\n",
        "\n",
        "print(f\"P: {p}\\nQ: {q}\\ne: {e}\\nN: {n}\\nd: {d}\\n\")\n",
        "print(f\"N,e: ({n},{e})\")\n",
        "print(f\"N,d: ({n},{d})\")"
      ],
      "metadata": {
        "colab": {
          "base_uri": "https://localhost:8080/"
        },
        "id": "b72_yYOq6hMr",
        "outputId": "3f637382-2503-4ccb-f098-dc339a10901b"
      },
      "execution_count": null,
      "outputs": [
        {
          "output_type": "stream",
          "name": "stdout",
          "text": [
            "P: 51407\n",
            "Q: 65071\n",
            "e: 265872071\n",
            "N: 3345104897\n",
            "d: 3311748311\n",
            "\n",
            "N,e: (3345104897,265872071)\n",
            "N,d: (3345104897,3311748311)\n"
          ]
        }
      ]
    },
    {
      "cell_type": "code",
      "source": [
        "P = 51407\n",
        "Q = 65071\n",
        "print((P-1)*(Q-1))"
      ],
      "metadata": {
        "colab": {
          "base_uri": "https://localhost:8080/"
        },
        "id": "yEtVPNubzlwW",
        "outputId": "cb7b42a4-5770-4cb4-8e2c-ba5c595271fd"
      },
      "execution_count": 19,
      "outputs": [
        {
          "output_type": "stream",
          "name": "stdout",
          "text": [
            "3344988420\n"
          ]
        }
      ]
    },
    {
      "cell_type": "markdown",
      "source": [
        "# Encryption and Decryption"
      ],
      "metadata": {
        "id": "5wmrlOSRrRDY"
      }
    },
    {
      "cell_type": "code",
      "source": [
        "def generate_modular_multiplication(mod, base, result=None):\n",
        "  if result is None:\n",
        "    result = base\n",
        "  return (result*base)%mod\n",
        "\n",
        "def generate_modular_square_multiplication(base, exponent, modulus):\n",
        "  result = 1\n",
        "  while exponent > 0:\n",
        "    if (exponent % 2):\n",
        "      result = generate_modular_multiplication(modulus,base,result)\n",
        "    base = generate_modular_multiplication(modulus,base)\n",
        "    exponent //= 2\n",
        "\n",
        "  return result"
      ],
      "metadata": {
        "id": "WmouW5j8sK4D"
      },
      "execution_count": 48,
      "outputs": []
    },
    {
      "cell_type": "code",
      "source": [
        "def generate_text_to_int_msg_list(text, length):\n",
        "  print([text[i:i+length] for i in range(0, len(text), length)])\n",
        "  return [int(text[i:i+length].encode('utf-8').hex(),16) for i in range(0, len(text), length)]"
      ],
      "metadata": {
        "id": "XkcKYSOp4Ukf"
      },
      "execution_count": 49,
      "outputs": []
    },
    {
      "cell_type": "code",
      "source": [
        "def generate_encrypted_list(list,e,N):\n",
        "  return [generate_modular_square_multiplication(text,e,N) for text in list]"
      ],
      "metadata": {
        "id": "DbGtVxt88NhJ"
      },
      "execution_count": 50,
      "outputs": []
    },
    {
      "cell_type": "markdown",
      "source": [
        "## For encryption"
      ],
      "metadata": {
        "id": "SrSeKZ2uraX-"
      }
    },
    {
      "cell_type": "code",
      "source": [
        "#Partner's N & e\n",
        "N = 2476210577\n",
        "e = 1001395693\n",
        "\n",
        "my_message = \"Hello From Anik\"\n",
        "block_len = 3\n",
        "print(my_message)\n",
        "msg_list = generate_text_to_int_msg_list(my_message,block_len)\n",
        "print(\"message before encryption: \")\n",
        "print(msg_list)\n",
        "encrypted_msg_list = generate_encrypted_list(msg_list,e,N)\n",
        "print(\"message after encryption: \")\n",
        "print(encrypted_msg_list)"
      ],
      "metadata": {
        "colab": {
          "base_uri": "https://localhost:8080/"
        },
        "id": "6upm0J5A8JJ9",
        "outputId": "ca0eb78e-3166-4f26-9635-65678e6a5882"
      },
      "execution_count": 51,
      "outputs": [
        {
          "output_type": "stream",
          "name": "stdout",
          "text": [
            "Hello From Anik\n",
            "['Hel', 'lo ', 'Fro', 'm A', 'nik']\n",
            "message before encryption: \n",
            "[4744556, 7106336, 4616815, 7151681, 7235947]\n",
            "message after encryption: \n",
            "[954186234, 640257641, 504336221, 2241249811, 902176818]\n"
          ]
        }
      ]
    },
    {
      "cell_type": "markdown",
      "source": [
        "## For Decryption"
      ],
      "metadata": {
        "id": "Lq9al4x7rdFe"
      }
    },
    {
      "cell_type": "code",
      "source": [
        "#My N & d\n",
        "N = 3345104897\n",
        "d = 3311748311\n",
        "encrypted_list_from_partner = [2168000973, 1524214925, 3070310645, 2531220278]\n",
        "\n",
        "print(\"message after decryption: \")\n",
        "decrypted_int_list = generate_encrypted_list(encrypted_list_from_partner,d,N)\n",
        "decrypted_msg_list = [bytes.fromhex(hex(int_msg)[2:]).decode('utf-8') for int_msg in decrypted_int_list]\n",
        "print(decrypted_int_list)\n",
        "print(decrypted_msg_list)\n",
        "print(\"\".join(decrypted_msg_list))\n"
      ],
      "metadata": {
        "colab": {
          "base_uri": "https://localhost:8080/"
        },
        "id": "VHWlpNn8-IXO",
        "outputId": "4b7d833f-d4fc-4d9d-e98b-6a40962fdd3d"
      },
      "execution_count": 52,
      "outputs": [
        {
          "output_type": "stream",
          "name": "stdout",
          "text": [
            "message after decryption: \n",
            "[4744556, 7106336, 4288105, 107]\n",
            "['Hel', 'lo ', 'Ani', 'k']\n",
            "Hello Anik\n"
          ]
        }
      ]
    },
    {
      "cell_type": "markdown",
      "source": [
        "# Signature"
      ],
      "metadata": {
        "id": "XaIdUl1_rgdJ"
      }
    },
    {
      "cell_type": "code",
      "source": [
        "def generate_signed_original_list(list,e_d,N):\n",
        "  return [generate_modular_square_multiplication(text,e_d,N) for text in list]\n",
        "\n",
        "def is_verified(original_text, signature_received):\n",
        "  return True if original_text == \"\".join([bytes.fromhex(hex(int_val)[2:]).decode('utf-8') for int_val in signature_received]) else False\n",
        ""
      ],
      "metadata": {
        "id": "OsS9J9f0XQW-"
      },
      "execution_count": 53,
      "outputs": []
    },
    {
      "cell_type": "markdown",
      "source": [
        "## Signature Generation"
      ],
      "metadata": {
        "id": "FmXLZWCErmWV"
      }
    },
    {
      "cell_type": "code",
      "source": [
        "N = 3345104897\n",
        "d = 3311748311\n",
        "original_text = \"Anik Chowdhury\"\n",
        "text_lst = generate_text_to_int_msg_list(original_text, 3)\n",
        "print(f\"Original Text: {text_lst}\")\n",
        "signed_text = generate_signed_original_list(text_lst,d,N)\n",
        "print(f\"Signed Text: {signed_text}\")"
      ],
      "metadata": {
        "colab": {
          "base_uri": "https://localhost:8080/"
        },
        "id": "EcdQvHy_bYns",
        "outputId": "efc62205-15f7-4c5a-a7b7-071921ba79bd"
      },
      "execution_count": 54,
      "outputs": [
        {
          "output_type": "stream",
          "name": "stdout",
          "text": [
            "['Ani', 'k C', 'how', 'dhu', 'ry']\n",
            "Original Text: [4288105, 7020611, 6844279, 6580341, 29305]\n",
            "Signed Text: [1532896188, 1727526906, 730877332, 607670896, 43522356]\n"
          ]
        }
      ]
    },
    {
      "cell_type": "markdown",
      "source": [
        "## Signature Verification"
      ],
      "metadata": {
        "id": "Q7D6QOWLrrky"
      }
    },
    {
      "cell_type": "code",
      "source": [
        "#Partner's N & e\n",
        "N = 2476210577\n",
        "e = 1001395693\n",
        "partners_signature = \"Pushpeswaree Degamber\"\n",
        "partners_signature_received = [1506823430, 2438002494, 1358545013, 710806339, 611410040, 1284107460, 754649663]\n",
        "partner_original_text = generate_signed_original_list(partners_signature_received,e,N)\n",
        "print(f\"Partner's Text: {partner_original_text}\")\n",
        "is_verified(partners_signature, partner_original_text)"
      ],
      "metadata": {
        "colab": {
          "base_uri": "https://localhost:8080/"
        },
        "id": "Nwufj1QXcWhq",
        "outputId": "40a40219-1c37-4dcf-fc4e-af5977a1236d"
      },
      "execution_count": 55,
      "outputs": [
        {
          "output_type": "stream",
          "name": "stdout",
          "text": [
            "Partner's Text: [5272947, 6844517, 7567201, 7497061, 2114661, 6775149, 6448498]\n"
          ]
        },
        {
          "output_type": "execute_result",
          "data": {
            "text/plain": [
              "True"
            ]
          },
          "metadata": {},
          "execution_count": 55
        }
      ]
    }
  ]
}